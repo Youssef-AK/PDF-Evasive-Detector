{
 "cells": [
  {
   "cell_type": "code",
   "execution_count": 75,
   "id": "b2cda82c-adb1-40b6-a2c4-b34b8348b754",
   "metadata": {},
   "outputs": [],
   "source": [
    "import pandas as pd\n",
    "import numpy as np\n",
    "import seaborn as sns\n",
    "import matplotlib.pyplot as plt\n",
    "\n",
    "%matplotlib inline"
   ]
  },
  {
   "cell_type": "code",
   "execution_count": 9,
   "id": "acb0c03b-353c-4cad-9470-471e5b633bc2",
   "metadata": {},
   "outputs": [],
   "source": [
    "\n",
    "# Plot distribution of numeric data (univariate and pairwise joint distribution)\n",
    "# Plot count distribution of categorical data\n",
    "# Analyse time series of numeric data by daily, monthly and yearly frequencies"
   ]
  },
  {
   "cell_type": "code",
   "execution_count": 10,
   "id": "470c1ba7-c387-4605-8c7e-c77f8bf51913",
   "metadata": {},
   "outputs": [
    {
     "data": {
      "text/html": [
       "<div>\n",
       "<style scoped>\n",
       "    .dataframe tbody tr th:only-of-type {\n",
       "        vertical-align: middle;\n",
       "    }\n",
       "\n",
       "    .dataframe tbody tr th {\n",
       "        vertical-align: top;\n",
       "    }\n",
       "\n",
       "    .dataframe thead th {\n",
       "        text-align: right;\n",
       "    }\n",
       "</style>\n",
       "<table border=\"1\" class=\"dataframe\">\n",
       "  <thead>\n",
       "    <tr style=\"text-align: right;\">\n",
       "      <th></th>\n",
       "      <th>Fine name</th>\n",
       "      <th>pdfsize</th>\n",
       "      <th>metadata size</th>\n",
       "      <th>pages</th>\n",
       "      <th>xref Length</th>\n",
       "      <th>title characters</th>\n",
       "      <th>isEncrypted</th>\n",
       "      <th>embedded files</th>\n",
       "      <th>images</th>\n",
       "      <th>text</th>\n",
       "      <th>...</th>\n",
       "      <th>AA</th>\n",
       "      <th>OpenAction</th>\n",
       "      <th>Acroform</th>\n",
       "      <th>JBIG2Decode</th>\n",
       "      <th>RichMedia</th>\n",
       "      <th>launch</th>\n",
       "      <th>EmbeddedFile</th>\n",
       "      <th>XFA</th>\n",
       "      <th>Colors</th>\n",
       "      <th>Class</th>\n",
       "    </tr>\n",
       "  </thead>\n",
       "  <tbody>\n",
       "    <tr>\n",
       "      <th>0</th>\n",
       "      <td>aedaf3c5428a2e3ba600c44b96ad78dfdf8ed76e7df129...</td>\n",
       "      <td>8.0</td>\n",
       "      <td>180.0</td>\n",
       "      <td>1.0</td>\n",
       "      <td>11.0</td>\n",
       "      <td>0.0</td>\n",
       "      <td>0.0</td>\n",
       "      <td>0.0</td>\n",
       "      <td>0</td>\n",
       "      <td>No</td>\n",
       "      <td>...</td>\n",
       "      <td>0</td>\n",
       "      <td>1</td>\n",
       "      <td>0</td>\n",
       "      <td>0</td>\n",
       "      <td>0</td>\n",
       "      <td>0</td>\n",
       "      <td>0</td>\n",
       "      <td>0</td>\n",
       "      <td>0.0</td>\n",
       "      <td>Malicious</td>\n",
       "    </tr>\n",
       "    <tr>\n",
       "      <th>1</th>\n",
       "      <td>fe767fb2584a10c010626263ea950643ac25f6ca24628f...</td>\n",
       "      <td>15.0</td>\n",
       "      <td>224.0</td>\n",
       "      <td>0.0</td>\n",
       "      <td>20.0</td>\n",
       "      <td>7.0</td>\n",
       "      <td>0.0</td>\n",
       "      <td>0.0</td>\n",
       "      <td>0</td>\n",
       "      <td>No</td>\n",
       "      <td>...</td>\n",
       "      <td>0</td>\n",
       "      <td>0</td>\n",
       "      <td>1</td>\n",
       "      <td>0</td>\n",
       "      <td>0</td>\n",
       "      <td>0</td>\n",
       "      <td>8</td>\n",
       "      <td>1</td>\n",
       "      <td>0.0</td>\n",
       "      <td>Malicious</td>\n",
       "    </tr>\n",
       "    <tr>\n",
       "      <th>2</th>\n",
       "      <td>544c5223ee301affad514b6fa585b3191625aba0a7222b...</td>\n",
       "      <td>4.0</td>\n",
       "      <td>468.0</td>\n",
       "      <td>2.0</td>\n",
       "      <td>13.0</td>\n",
       "      <td>16.0</td>\n",
       "      <td>0.0</td>\n",
       "      <td>0.0</td>\n",
       "      <td>0</td>\n",
       "      <td>Yes</td>\n",
       "      <td>...</td>\n",
       "      <td>0</td>\n",
       "      <td>1</td>\n",
       "      <td>0</td>\n",
       "      <td>0</td>\n",
       "      <td>0</td>\n",
       "      <td>0</td>\n",
       "      <td>0</td>\n",
       "      <td>0</td>\n",
       "      <td>0.0</td>\n",
       "      <td>Malicious</td>\n",
       "    </tr>\n",
       "    <tr>\n",
       "      <th>3</th>\n",
       "      <td>669772e626deccb9cfb7eb6a61e13d248d0ea08f1abe15...</td>\n",
       "      <td>17.0</td>\n",
       "      <td>250.0</td>\n",
       "      <td>1.0</td>\n",
       "      <td>15.0</td>\n",
       "      <td>0.0</td>\n",
       "      <td>0.0</td>\n",
       "      <td>0.0</td>\n",
       "      <td>0</td>\n",
       "      <td>No</td>\n",
       "      <td>...</td>\n",
       "      <td>0</td>\n",
       "      <td>1</td>\n",
       "      <td>1</td>\n",
       "      <td>0</td>\n",
       "      <td>0</td>\n",
       "      <td>0</td>\n",
       "      <td>0</td>\n",
       "      <td>0</td>\n",
       "      <td>0.0</td>\n",
       "      <td>Malicious</td>\n",
       "    </tr>\n",
       "    <tr>\n",
       "      <th>4</th>\n",
       "      <td>e434c884f45a691b0bf33d765f61794007eb0b8bb9f590...</td>\n",
       "      <td>7.0</td>\n",
       "      <td>252.0</td>\n",
       "      <td>3.0</td>\n",
       "      <td>16.0</td>\n",
       "      <td>45.0</td>\n",
       "      <td>0.0</td>\n",
       "      <td>0.0</td>\n",
       "      <td>0</td>\n",
       "      <td>Yes</td>\n",
       "      <td>...</td>\n",
       "      <td>0</td>\n",
       "      <td>1</td>\n",
       "      <td>0</td>\n",
       "      <td>0</td>\n",
       "      <td>0</td>\n",
       "      <td>0</td>\n",
       "      <td>0</td>\n",
       "      <td>0</td>\n",
       "      <td>0.0</td>\n",
       "      <td>Malicious</td>\n",
       "    </tr>\n",
       "  </tbody>\n",
       "</table>\n",
       "<p>5 rows × 33 columns</p>\n",
       "</div>"
      ],
      "text/plain": [
       "                                           Fine name  pdfsize  metadata size  \\\n",
       "0  aedaf3c5428a2e3ba600c44b96ad78dfdf8ed76e7df129...      8.0          180.0   \n",
       "1  fe767fb2584a10c010626263ea950643ac25f6ca24628f...     15.0          224.0   \n",
       "2  544c5223ee301affad514b6fa585b3191625aba0a7222b...      4.0          468.0   \n",
       "3  669772e626deccb9cfb7eb6a61e13d248d0ea08f1abe15...     17.0          250.0   \n",
       "4  e434c884f45a691b0bf33d765f61794007eb0b8bb9f590...      7.0          252.0   \n",
       "\n",
       "   pages  xref Length  title characters  isEncrypted  embedded files images  \\\n",
       "0    1.0         11.0               0.0          0.0             0.0      0   \n",
       "1    0.0         20.0               7.0          0.0             0.0      0   \n",
       "2    2.0         13.0              16.0          0.0             0.0      0   \n",
       "3    1.0         15.0               0.0          0.0             0.0      0   \n",
       "4    3.0         16.0              45.0          0.0             0.0      0   \n",
       "\n",
       "  text  ... AA OpenAction Acroform  JBIG2Decode RichMedia launch  \\\n",
       "0   No  ...  0          1        0            0         0      0   \n",
       "1   No  ...  0          0        1            0         0      0   \n",
       "2  Yes  ...  0          1        0            0         0      0   \n",
       "3   No  ...  0          1        1            0         0      0   \n",
       "4  Yes  ...  0          1        0            0         0      0   \n",
       "\n",
       "   EmbeddedFile XFA Colors      Class  \n",
       "0             0   0    0.0  Malicious  \n",
       "1             8   1    0.0  Malicious  \n",
       "2             0   0    0.0  Malicious  \n",
       "3             0   0    0.0  Malicious  \n",
       "4             0   0    0.0  Malicious  \n",
       "\n",
       "[5 rows x 33 columns]"
      ]
     },
     "execution_count": 10,
     "metadata": {},
     "output_type": "execute_result"
    }
   ],
   "source": [
    "df_pdf = pd.read_csv('PDFMalware2022.csv')\n",
    "\n",
    "# Display first 5 Rows.\n",
    "df_pdf.head()"
   ]
  },
  {
   "cell_type": "code",
   "execution_count": 11,
   "id": "5bf9488e-a0f0-47dd-8f7d-4c5d629249bb",
   "metadata": {},
   "outputs": [
    {
     "name": "stdout",
     "output_type": "stream",
     "text": [
      "<class 'pandas.core.frame.DataFrame'>\n",
      "RangeIndex: 10026 entries, 0 to 10025\n",
      "Data columns (total 33 columns):\n",
      " #   Column            Non-Null Count  Dtype  \n",
      "---  ------            --------------  -----  \n",
      " 0   Fine name         10026 non-null  object \n",
      " 1   pdfsize           10025 non-null  float64\n",
      " 2   metadata size     10025 non-null  float64\n",
      " 3   pages             10025 non-null  float64\n",
      " 4   xref Length       10025 non-null  float64\n",
      " 5   title characters  10025 non-null  float64\n",
      " 6   isEncrypted       10025 non-null  float64\n",
      " 7   embedded files    10025 non-null  float64\n",
      " 8   images            10025 non-null  object \n",
      " 9   text              10025 non-null  object \n",
      " 10  header            10025 non-null  object \n",
      " 11  obj               10023 non-null  object \n",
      " 12  endobj            10023 non-null  object \n",
      " 13  stream            10023 non-null  float64\n",
      " 14  endstream         10023 non-null  object \n",
      " 15  xref              10023 non-null  object \n",
      " 16  trailer           10023 non-null  float64\n",
      " 17  startxref         10023 non-null  object \n",
      " 18  pageno            10023 non-null  object \n",
      " 19  encrypt           10023 non-null  float64\n",
      " 20  ObjStm            10023 non-null  float64\n",
      " 21  JS                10023 non-null  object \n",
      " 22  Javascript        10023 non-null  object \n",
      " 23  AA                10023 non-null  object \n",
      " 24  OpenAction        10023 non-null  object \n",
      " 25  Acroform          10023 non-null  object \n",
      " 26  JBIG2Decode       10023 non-null  object \n",
      " 27  RichMedia         10023 non-null  object \n",
      " 28  launch            10023 non-null  object \n",
      " 29  EmbeddedFile      10023 non-null  object \n",
      " 30  XFA               10023 non-null  object \n",
      " 31  Colors            10023 non-null  float64\n",
      " 32  Class             10025 non-null  object \n",
      "dtypes: float64(12), object(21)\n",
      "memory usage: 2.5+ MB\n"
     ]
    }
   ],
   "source": [
    "# Get a brief summary for our PDF dataset.\n",
    "df_pdf.info()"
   ]
  },
  {
   "cell_type": "code",
   "execution_count": 12,
   "id": "74232bcb-0143-40c0-bf4e-260afdd6ad98",
   "metadata": {},
   "outputs": [
    {
     "data": {
      "text/plain": [
       "(10026, 33)"
      ]
     },
     "execution_count": 12,
     "metadata": {},
     "output_type": "execute_result"
    }
   ],
   "source": [
    "# Check number of (Columns, Rows) in our dataset.\n",
    "df_pdf.shape"
   ]
  },
  {
   "cell_type": "markdown",
   "id": "2ccb1b26-4a41-482d-a31f-f68538b5f710",
   "metadata": {},
   "source": [
    "We can see -> **shape** function raised 10026 Rows, and 33 column"
   ]
  },
  {
   "cell_type": "code",
   "execution_count": 5,
   "id": "070d9d9b-811d-41c6-9671-ec5467caedbe",
   "metadata": {},
   "outputs": [
    {
     "data": {
      "text/plain": [
       "object     21\n",
       "float64    12\n",
       "dtype: int64"
      ]
     },
     "execution_count": 5,
     "metadata": {},
     "output_type": "execute_result"
    }
   ],
   "source": [
    "# check data types for our dataset.\n",
    "df_pdf.dtypes.value_counts()"
   ]
  },
  {
   "cell_type": "code",
   "execution_count": 6,
   "id": "8797e1a0-dd0a-41f5-af0f-52b09a852dcc",
   "metadata": {},
   "outputs": [
    {
     "data": {
      "text/html": [
       "<div>\n",
       "<style scoped>\n",
       "    .dataframe tbody tr th:only-of-type {\n",
       "        vertical-align: middle;\n",
       "    }\n",
       "\n",
       "    .dataframe tbody tr th {\n",
       "        vertical-align: top;\n",
       "    }\n",
       "\n",
       "    .dataframe thead th {\n",
       "        text-align: right;\n",
       "    }\n",
       "</style>\n",
       "<table border=\"1\" class=\"dataframe\">\n",
       "  <thead>\n",
       "    <tr style=\"text-align: right;\">\n",
       "      <th></th>\n",
       "      <th>pdfsize</th>\n",
       "      <th>metadata size</th>\n",
       "      <th>pages</th>\n",
       "      <th>xref Length</th>\n",
       "      <th>title characters</th>\n",
       "      <th>isEncrypted</th>\n",
       "      <th>embedded files</th>\n",
       "      <th>stream</th>\n",
       "      <th>trailer</th>\n",
       "      <th>encrypt</th>\n",
       "      <th>ObjStm</th>\n",
       "      <th>Colors</th>\n",
       "    </tr>\n",
       "  </thead>\n",
       "  <tbody>\n",
       "    <tr>\n",
       "      <th>count</th>\n",
       "      <td>10025.000000</td>\n",
       "      <td>10025.000000</td>\n",
       "      <td>10025.000000</td>\n",
       "      <td>10025.000000</td>\n",
       "      <td>10025.000000</td>\n",
       "      <td>10025.000000</td>\n",
       "      <td>10025.000000</td>\n",
       "      <td>10023.000000</td>\n",
       "      <td>10023.000000</td>\n",
       "      <td>10023.000000</td>\n",
       "      <td>10023.000000</td>\n",
       "      <td>10023.000000</td>\n",
       "    </tr>\n",
       "    <tr>\n",
       "      <th>mean</th>\n",
       "      <td>87.209476</td>\n",
       "      <td>334.099352</td>\n",
       "      <td>3.398105</td>\n",
       "      <td>2739.220549</td>\n",
       "      <td>51.477207</td>\n",
       "      <td>-0.020848</td>\n",
       "      <td>-0.006484</td>\n",
       "      <td>17.341215</td>\n",
       "      <td>1.203532</td>\n",
       "      <td>-0.043500</td>\n",
       "      <td>1.516811</td>\n",
       "      <td>2.087000</td>\n",
       "    </tr>\n",
       "    <tr>\n",
       "      <th>std</th>\n",
       "      <td>444.197122</td>\n",
       "      <td>1565.853177</td>\n",
       "      <td>11.902471</td>\n",
       "      <td>18139.229396</td>\n",
       "      <td>1354.640037</td>\n",
       "      <td>0.206789</td>\n",
       "      <td>0.257098</td>\n",
       "      <td>35.330169</td>\n",
       "      <td>1.370455</td>\n",
       "      <td>0.256045</td>\n",
       "      <td>7.633485</td>\n",
       "      <td>58.178074</td>\n",
       "    </tr>\n",
       "    <tr>\n",
       "      <th>min</th>\n",
       "      <td>-1.000000</td>\n",
       "      <td>-1.000000</td>\n",
       "      <td>-1.000000</td>\n",
       "      <td>-1.000000</td>\n",
       "      <td>-1.000000</td>\n",
       "      <td>-1.000000</td>\n",
       "      <td>-1.000000</td>\n",
       "      <td>-1.000000</td>\n",
       "      <td>-1.000000</td>\n",
       "      <td>-1.000000</td>\n",
       "      <td>-1.000000</td>\n",
       "      <td>-1.000000</td>\n",
       "    </tr>\n",
       "    <tr>\n",
       "      <th>25%</th>\n",
       "      <td>9.000000</td>\n",
       "      <td>180.000000</td>\n",
       "      <td>1.000000</td>\n",
       "      <td>12.000000</td>\n",
       "      <td>0.000000</td>\n",
       "      <td>0.000000</td>\n",
       "      <td>0.000000</td>\n",
       "      <td>2.000000</td>\n",
       "      <td>1.000000</td>\n",
       "      <td>0.000000</td>\n",
       "      <td>0.000000</td>\n",
       "      <td>0.000000</td>\n",
       "    </tr>\n",
       "    <tr>\n",
       "      <th>50%</th>\n",
       "      <td>36.000000</td>\n",
       "      <td>265.000000</td>\n",
       "      <td>1.000000</td>\n",
       "      <td>21.000000</td>\n",
       "      <td>0.000000</td>\n",
       "      <td>0.000000</td>\n",
       "      <td>0.000000</td>\n",
       "      <td>4.000000</td>\n",
       "      <td>1.000000</td>\n",
       "      <td>0.000000</td>\n",
       "      <td>0.000000</td>\n",
       "      <td>0.000000</td>\n",
       "    </tr>\n",
       "    <tr>\n",
       "      <th>75%</th>\n",
       "      <td>80.000000</td>\n",
       "      <td>319.000000</td>\n",
       "      <td>2.000000</td>\n",
       "      <td>77.000000</td>\n",
       "      <td>13.000000</td>\n",
       "      <td>0.000000</td>\n",
       "      <td>0.000000</td>\n",
       "      <td>18.000000</td>\n",
       "      <td>2.000000</td>\n",
       "      <td>0.000000</td>\n",
       "      <td>0.000000</td>\n",
       "      <td>0.000000</td>\n",
       "    </tr>\n",
       "    <tr>\n",
       "      <th>max</th>\n",
       "      <td>23816.000000</td>\n",
       "      <td>77185.000000</td>\n",
       "      <td>595.000000</td>\n",
       "      <td>263987.000000</td>\n",
       "      <td>76993.000000</td>\n",
       "      <td>4.000000</td>\n",
       "      <td>5.000000</td>\n",
       "      <td>812.000000</td>\n",
       "      <td>46.000000</td>\n",
       "      <td>2.000000</td>\n",
       "      <td>600.000000</td>\n",
       "      <td>5682.000000</td>\n",
       "    </tr>\n",
       "  </tbody>\n",
       "</table>\n",
       "</div>"
      ],
      "text/plain": [
       "            pdfsize  metadata size         pages    xref Length  \\\n",
       "count  10025.000000   10025.000000  10025.000000   10025.000000   \n",
       "mean      87.209476     334.099352      3.398105    2739.220549   \n",
       "std      444.197122    1565.853177     11.902471   18139.229396   \n",
       "min       -1.000000      -1.000000     -1.000000      -1.000000   \n",
       "25%        9.000000     180.000000      1.000000      12.000000   \n",
       "50%       36.000000     265.000000      1.000000      21.000000   \n",
       "75%       80.000000     319.000000      2.000000      77.000000   \n",
       "max    23816.000000   77185.000000    595.000000  263987.000000   \n",
       "\n",
       "       title characters   isEncrypted  embedded files        stream  \\\n",
       "count      10025.000000  10025.000000    10025.000000  10023.000000   \n",
       "mean          51.477207     -0.020848       -0.006484     17.341215   \n",
       "std         1354.640037      0.206789        0.257098     35.330169   \n",
       "min           -1.000000     -1.000000       -1.000000     -1.000000   \n",
       "25%            0.000000      0.000000        0.000000      2.000000   \n",
       "50%            0.000000      0.000000        0.000000      4.000000   \n",
       "75%           13.000000      0.000000        0.000000     18.000000   \n",
       "max        76993.000000      4.000000        5.000000    812.000000   \n",
       "\n",
       "            trailer       encrypt        ObjStm        Colors  \n",
       "count  10023.000000  10023.000000  10023.000000  10023.000000  \n",
       "mean       1.203532     -0.043500      1.516811      2.087000  \n",
       "std        1.370455      0.256045      7.633485     58.178074  \n",
       "min       -1.000000     -1.000000     -1.000000     -1.000000  \n",
       "25%        1.000000      0.000000      0.000000      0.000000  \n",
       "50%        1.000000      0.000000      0.000000      0.000000  \n",
       "75%        2.000000      0.000000      0.000000      0.000000  \n",
       "max       46.000000      2.000000    600.000000   5682.000000  "
      ]
     },
     "execution_count": 6,
     "metadata": {},
     "output_type": "execute_result"
    }
   ],
   "source": [
    "# Show Stats summary for our numeric/float64 columns.\n",
    "df_pdf.describe()"
   ]
  },
  {
   "cell_type": "markdown",
   "id": "d1cf4ada-40f8-496d-8816-353d35da01bc",
   "metadata": {
    "tags": []
   },
   "source": [
    "### Check Missing Values"
   ]
  },
  {
   "cell_type": "code",
   "execution_count": 7,
   "id": "03c8adb4-5e0d-4e7e-a40e-642037f66906",
   "metadata": {},
   "outputs": [
    {
     "data": {
      "text/plain": [
       "74"
      ]
     },
     "execution_count": 7,
     "metadata": {},
     "output_type": "execute_result"
    }
   ],
   "source": [
    "# Check total Missing values.\n",
    "sum(df_pdf.isnull().sum())"
   ]
  },
  {
   "cell_type": "code",
   "execution_count": 8,
   "id": "e68677f3-7b4f-41d6-b1f9-01ee48c41a65",
   "metadata": {},
   "outputs": [
    {
     "data": {
      "text/plain": [
       "Fine name           0\n",
       "pdfsize             1\n",
       "metadata size       1\n",
       "pages               1\n",
       "xref Length         1\n",
       "title characters    1\n",
       "isEncrypted         1\n",
       "embedded files      1\n",
       "images              1\n",
       "text                1\n",
       "header              1\n",
       "obj                 3\n",
       "endobj              3\n",
       "stream              3\n",
       "endstream           3\n",
       "xref                3\n",
       "trailer             3\n",
       "startxref           3\n",
       "pageno              3\n",
       "encrypt             3\n",
       "ObjStm              3\n",
       "JS                  3\n",
       "Javascript          3\n",
       "AA                  3\n",
       "OpenAction          3\n",
       "Acroform            3\n",
       "JBIG2Decode         3\n",
       "RichMedia           3\n",
       "launch              3\n",
       "EmbeddedFile        3\n",
       "XFA                 3\n",
       "Colors              3\n",
       "Class               1\n",
       "dtype: int64"
      ]
     },
     "execution_count": 8,
     "metadata": {},
     "output_type": "execute_result"
    }
   ],
   "source": [
    "# Check Missing values for each column\n",
    "df_pdf.isnull().sum()"
   ]
  },
  {
   "cell_type": "code",
   "execution_count": 64,
   "id": "6796bad8-47a0-4ea5-9eef-99e7853c2275",
   "metadata": {},
   "outputs": [
    {
     "data": {
      "text/html": [
       "<div>\n",
       "<style scoped>\n",
       "    .dataframe tbody tr th:only-of-type {\n",
       "        vertical-align: middle;\n",
       "    }\n",
       "\n",
       "    .dataframe tbody tr th {\n",
       "        vertical-align: top;\n",
       "    }\n",
       "\n",
       "    .dataframe thead th {\n",
       "        text-align: right;\n",
       "    }\n",
       "</style>\n",
       "<table border=\"1\" class=\"dataframe\">\n",
       "  <thead>\n",
       "    <tr style=\"text-align: right;\">\n",
       "      <th></th>\n",
       "      <th>Fine name</th>\n",
       "      <th>pdfsize</th>\n",
       "      <th>metadata size</th>\n",
       "      <th>pages</th>\n",
       "      <th>xref Length</th>\n",
       "      <th>title characters</th>\n",
       "      <th>isEncrypted</th>\n",
       "      <th>embedded files</th>\n",
       "      <th>images</th>\n",
       "      <th>text</th>\n",
       "      <th>...</th>\n",
       "      <th>AA</th>\n",
       "      <th>OpenAction</th>\n",
       "      <th>Acroform</th>\n",
       "      <th>JBIG2Decode</th>\n",
       "      <th>RichMedia</th>\n",
       "      <th>launch</th>\n",
       "      <th>EmbeddedFile</th>\n",
       "      <th>XFA</th>\n",
       "      <th>Colors</th>\n",
       "      <th>Class</th>\n",
       "    </tr>\n",
       "  </thead>\n",
       "  <tbody>\n",
       "    <tr>\n",
       "      <th>1339</th>\n",
       "      <td>3329abf72745a8483b96f60d48774177d2ca3f8ec37316...</td>\n",
       "      <td>NaN</td>\n",
       "      <td>NaN</td>\n",
       "      <td>NaN</td>\n",
       "      <td>NaN</td>\n",
       "      <td>NaN</td>\n",
       "      <td>NaN</td>\n",
       "      <td>NaN</td>\n",
       "      <td>NaN</td>\n",
       "      <td>NaN</td>\n",
       "      <td>...</td>\n",
       "      <td>NaN</td>\n",
       "      <td>NaN</td>\n",
       "      <td>NaN</td>\n",
       "      <td>NaN</td>\n",
       "      <td>NaN</td>\n",
       "      <td>NaN</td>\n",
       "      <td>NaN</td>\n",
       "      <td>NaN</td>\n",
       "      <td>NaN</td>\n",
       "      <td>NaN</td>\n",
       "    </tr>\n",
       "  </tbody>\n",
       "</table>\n",
       "<p>1 rows × 33 columns</p>\n",
       "</div>"
      ],
      "text/plain": [
       "                                              Fine name  pdfsize  \\\n",
       "1339  3329abf72745a8483b96f60d48774177d2ca3f8ec37316...      NaN   \n",
       "\n",
       "      metadata size  pages  xref Length  title characters  isEncrypted  \\\n",
       "1339            NaN    NaN          NaN               NaN          NaN   \n",
       "\n",
       "      embedded files images text  ...   AA OpenAction Acroform  JBIG2Decode  \\\n",
       "1339             NaN    NaN  NaN  ...  NaN        NaN      NaN          NaN   \n",
       "\n",
       "     RichMedia launch  EmbeddedFile  XFA Colors  Class  \n",
       "1339       NaN    NaN           NaN  NaN    NaN    NaN  \n",
       "\n",
       "[1 rows x 33 columns]"
      ]
     },
     "execution_count": 64,
     "metadata": {},
     "output_type": "execute_result"
    }
   ],
   "source": [
    "# Display Missing values for specific column\n",
    "df_pdf[df_pdf.Class.isnull()]"
   ]
  },
  {
   "cell_type": "code",
   "execution_count": 93,
   "id": "f9ef2e05-37b9-4901-af85-c105dd3f792b",
   "metadata": {},
   "outputs": [
    {
     "data": {
      "text/html": [
       "<div>\n",
       "<style scoped>\n",
       "    .dataframe tbody tr th:only-of-type {\n",
       "        vertical-align: middle;\n",
       "    }\n",
       "\n",
       "    .dataframe tbody tr th {\n",
       "        vertical-align: top;\n",
       "    }\n",
       "\n",
       "    .dataframe thead th {\n",
       "        text-align: right;\n",
       "    }\n",
       "</style>\n",
       "<table border=\"1\" class=\"dataframe\">\n",
       "  <thead>\n",
       "    <tr style=\"text-align: right;\">\n",
       "      <th></th>\n",
       "      <th>Fine name</th>\n",
       "      <th>pdfsize</th>\n",
       "      <th>metadata size</th>\n",
       "      <th>pages</th>\n",
       "      <th>xref Length</th>\n",
       "      <th>title characters</th>\n",
       "      <th>isEncrypted</th>\n",
       "      <th>embedded files</th>\n",
       "      <th>images</th>\n",
       "      <th>text</th>\n",
       "      <th>...</th>\n",
       "      <th>AA</th>\n",
       "      <th>OpenAction</th>\n",
       "      <th>Acroform</th>\n",
       "      <th>JBIG2Decode</th>\n",
       "      <th>RichMedia</th>\n",
       "      <th>launch</th>\n",
       "      <th>EmbeddedFile</th>\n",
       "      <th>XFA</th>\n",
       "      <th>Colors</th>\n",
       "      <th>Class</th>\n",
       "    </tr>\n",
       "  </thead>\n",
       "  <tbody>\n",
       "    <tr>\n",
       "      <th>1339</th>\n",
       "      <td>3329abf72745a8483b96f60d48774177d2ca3f8ec37316...</td>\n",
       "      <td>NaN</td>\n",
       "      <td>NaN</td>\n",
       "      <td>NaN</td>\n",
       "      <td>NaN</td>\n",
       "      <td>NaN</td>\n",
       "      <td>NaN</td>\n",
       "      <td>NaN</td>\n",
       "      <td>NaN</td>\n",
       "      <td>NaN</td>\n",
       "      <td>...</td>\n",
       "      <td>NaN</td>\n",
       "      <td>NaN</td>\n",
       "      <td>NaN</td>\n",
       "      <td>NaN</td>\n",
       "      <td>NaN</td>\n",
       "      <td>NaN</td>\n",
       "      <td>NaN</td>\n",
       "      <td>NaN</td>\n",
       "      <td>NaN</td>\n",
       "      <td>NaN</td>\n",
       "    </tr>\n",
       "    <tr>\n",
       "      <th>2127</th>\n",
       "      <td>a4c1e7dbcf95e3b9fae8ea506e770fa051d475a2cac962...</td>\n",
       "      <td>12.0</td>\n",
       "      <td>180.0</td>\n",
       "      <td>1.0</td>\n",
       "      <td>9.0</td>\n",
       "      <td>0.0</td>\n",
       "      <td>0.0</td>\n",
       "      <td>0.0</td>\n",
       "      <td>0</td>\n",
       "      <td>No</td>\n",
       "      <td>...</td>\n",
       "      <td>NaN</td>\n",
       "      <td>NaN</td>\n",
       "      <td>NaN</td>\n",
       "      <td>NaN</td>\n",
       "      <td>NaN</td>\n",
       "      <td>NaN</td>\n",
       "      <td>NaN</td>\n",
       "      <td>NaN</td>\n",
       "      <td>NaN</td>\n",
       "      <td>Malicious</td>\n",
       "    </tr>\n",
       "    <tr>\n",
       "      <th>2157</th>\n",
       "      <td>604f49700028d231aba380dce780a5f600e373f7fab406...</td>\n",
       "      <td>1.0</td>\n",
       "      <td>180.0</td>\n",
       "      <td>1.0</td>\n",
       "      <td>111612.0</td>\n",
       "      <td>0.0</td>\n",
       "      <td>0.0</td>\n",
       "      <td>0.0</td>\n",
       "      <td>0</td>\n",
       "      <td>No</td>\n",
       "      <td>...</td>\n",
       "      <td>NaN</td>\n",
       "      <td>NaN</td>\n",
       "      <td>NaN</td>\n",
       "      <td>NaN</td>\n",
       "      <td>NaN</td>\n",
       "      <td>NaN</td>\n",
       "      <td>NaN</td>\n",
       "      <td>NaN</td>\n",
       "      <td>NaN</td>\n",
       "      <td>Malicious</td>\n",
       "    </tr>\n",
       "  </tbody>\n",
       "</table>\n",
       "<p>3 rows × 33 columns</p>\n",
       "</div>"
      ],
      "text/plain": [
       "                                              Fine name  pdfsize  \\\n",
       "1339  3329abf72745a8483b96f60d48774177d2ca3f8ec37316...      NaN   \n",
       "2127  a4c1e7dbcf95e3b9fae8ea506e770fa051d475a2cac962...     12.0   \n",
       "2157  604f49700028d231aba380dce780a5f600e373f7fab406...      1.0   \n",
       "\n",
       "      metadata size  pages  xref Length  title characters  isEncrypted  \\\n",
       "1339            NaN    NaN          NaN               NaN          NaN   \n",
       "2127          180.0    1.0          9.0               0.0          0.0   \n",
       "2157          180.0    1.0     111612.0               0.0          0.0   \n",
       "\n",
       "      embedded files images text  ...   AA OpenAction Acroform  JBIG2Decode  \\\n",
       "1339             NaN    NaN  NaN  ...  NaN        NaN      NaN          NaN   \n",
       "2127             0.0      0   No  ...  NaN        NaN      NaN          NaN   \n",
       "2157             0.0      0   No  ...  NaN        NaN      NaN          NaN   \n",
       "\n",
       "     RichMedia launch  EmbeddedFile  XFA Colors      Class  \n",
       "1339       NaN    NaN           NaN  NaN    NaN        NaN  \n",
       "2127       NaN    NaN           NaN  NaN    NaN  Malicious  \n",
       "2157       NaN    NaN           NaN  NaN    NaN  Malicious  \n",
       "\n",
       "[3 rows x 33 columns]"
      ]
     },
     "execution_count": 93,
     "metadata": {},
     "output_type": "execute_result"
    }
   ],
   "source": [
    "# Display 3 random Missing values\n",
    "df_pdf[df_pdf.isnull().any(axis=1)].head(3)"
   ]
  },
  {
   "cell_type": "code",
   "execution_count": null,
   "id": "f15105f0-eaa3-4188-86ed-c19d976af2e4",
   "metadata": {},
   "outputs": [
    {
     "data": {
      "text/plain": [
       "<AxesSubplot:>"
      ]
     },
     "execution_count": 91,
     "metadata": {},
     "output_type": "execute_result"
    },
    {
     "data": {
      "image/png": "[encoded data removed]",
      "text/plain": [
       "<Figure size 2500x1000 with 3 Axes>"
      ]
     },
     "metadata": {},
     "output_type": "display_data"
    }
   ],
   "source": [
    "import missingno as msno\n",
    "msno.bar(df_pdf)"
   ]
  },
  {
   "cell_type": "markdown",
   "id": "428ea77f-71e8-4086-bb3a-99cc79970e39",
   "metadata": {},
   "source": [
    "We can see missing values is very small, So we can go with  the powerful MICE multi-imputer"
   ]
  },
  {
   "cell_type": "markdown",
   "id": "be3976a6-42df-4c14-99e5-a5e8aa0c16a5",
   "metadata": {},
   "source": [
    "### Imputation "
   ]
  },
  {
   "cell_type": "markdown",
   "id": "7fa959b8-19a7-45c2-9eeb-910a5ec5b5a0",
   "metadata": {
    "tags": []
   },
   "source": [
    "#### Numerical Columns"
   ]
  },
  {
   "cell_type": "code",
   "execution_count": 25,
   "id": "b7dce5b0-7dab-4fdc-99db-5085736c5e5d",
   "metadata": {
    "tags": []
   },
   "outputs": [],
   "source": [
    "# !pip install fancyimpute\n",
    "from fancyimpute import IterativeImputer"
   ]
  },
  {
   "cell_type": "code",
   "execution_count": 24,
   "id": "879abaa8-f7cb-43dd-b28f-778dba983fa4",
   "metadata": {},
   "outputs": [
    {
     "data": {
      "text/plain": [
       "21"
      ]
     },
     "execution_count": 24,
     "metadata": {},
     "output_type": "execute_result"
    }
   ],
   "source": [
    "sum(df_pdf.dtypes == 'object')"
   ]
  },
  {
   "cell_type": "code",
   "execution_count": 63,
   "id": "b5a58a48-8c7f-45cd-bb23-108169b6a130",
   "metadata": {
    "tags": []
   },
   "outputs": [],
   "source": [
    "# store numerical columns to vaiable\n",
    "numeric_columns = [x for x in df_pdf.columns if df_pdf[x].dtype != 'object']\n",
    "\n",
    "# identify Imputer\n",
    "mice_imputer = IterativeImputer()\n",
    "\n",
    "# Apply imputation \n",
    "df_pdf[numeric_columns] = mice_imputer.fit_transform(df_pdf[numeric_columns])\n"
   ]
  },
  {
   "cell_type": "code",
   "execution_count": 64,
   "id": "280de7a4-dad3-4f60-85cc-6c8e983bb066",
   "metadata": {},
   "outputs": [
    {
     "data": {
      "text/plain": [
       "Fine name           0\n",
       "pdfsize             0\n",
       "metadata size       0\n",
       "pages               0\n",
       "xref Length         0\n",
       "title characters    0\n",
       "isEncrypted         0\n",
       "embedded files      0\n",
       "images              1\n",
       "text                1\n",
       "header              1\n",
       "obj                 3\n",
       "endobj              3\n",
       "stream              0\n",
       "endstream           3\n",
       "xref                3\n",
       "trailer             0\n",
       "startxref           3\n",
       "pageno              3\n",
       "encrypt             0\n",
       "ObjStm              0\n",
       "JS                  3\n",
       "Javascript          3\n",
       "AA                  3\n",
       "OpenAction          3\n",
       "Acroform            3\n",
       "JBIG2Decode         3\n",
       "RichMedia           3\n",
       "launch              3\n",
       "EmbeddedFile        3\n",
       "XFA                 3\n",
       "Colors              0\n",
       "Class               1\n",
       "dtype: int64"
      ]
     },
     "execution_count": 64,
     "metadata": {},
     "output_type": "execute_result"
    }
   ],
   "source": [
    "# Check missing after applied imputation \n",
    "df_pdf.isnull().sum()"
   ]
  },
  {
   "cell_type": "code",
   "execution_count": 65,
   "id": "2cf15c63-6da2-40e6-b119-885a8a83366d",
   "metadata": {},
   "outputs": [
    {
     "data": {
      "text/plain": [
       "52"
      ]
     },
     "execution_count": 65,
     "metadata": {},
     "output_type": "execute_result"
    }
   ],
   "source": [
    "sum(df_pdf.isnull().sum())"
   ]
  },
  {
   "cell_type": "markdown",
   "id": "0cfc818a-4994-4998-b6a3-f22263e445ac",
   "metadata": {},
   "source": [
    "Yeah, we imputed only numerical columns [74 'all missing' - 52 'current/categorical missing' = **22** missing impuuted as **numerical** values].\n",
    "So, let's impute our categorical columns "
   ]
  },
  {
   "cell_type": "markdown",
   "id": "5bfe2e7f-7171-4f73-820f-2eabc9ccacd0",
   "metadata": {},
   "source": [
    "#### Categorical Imputation "
   ]
  },
  {
   "cell_type": "code",
   "execution_count": 62,
   "id": "dbeb3afb-5bfc-4d5e-8a48-49e5efb56b69",
   "metadata": {
    "tags": []
   },
   "outputs": [
    {
     "name": "stdout",
     "output_type": "stream",
     "text": [
      "Number of unique values for *Fine name* 10026\n",
      "Number of unique values for *images* 89\n",
      "Number of unique values for *text* 5\n",
      "Number of unique values for *header* 50\n",
      "Number of unique values for *obj* 479\n",
      "Number of unique values for *endobj* 478\n",
      "Number of unique values for *endstream* 241\n",
      "Number of unique values for *xref* 21\n",
      "Number of unique values for *startxref* 20\n",
      "Number of unique values for *pageno* 96\n",
      "Number of unique values for *JS* 32\n",
      "Number of unique values for *Javascript* 35\n",
      "Number of unique values for *AA* 40\n",
      "Number of unique values for *OpenAction* 8\n",
      "Number of unique values for *Acroform* 10\n",
      "Number of unique values for *JBIG2Decode* 16\n",
      "Number of unique values for *RichMedia* 7\n",
      "Number of unique values for *launch* 5\n",
      "Number of unique values for *EmbeddedFile* 19\n",
      "Number of unique values for *XFA* 7\n",
      "Number of unique values for *Class* 2\n"
     ]
    }
   ],
   "source": [
    "# store categorical columns to independed vaiable\n",
    "categorical_columns = [x for x in df_pdf.columns if df_pdf[x].dtype == 'object']\n",
    "\n",
    "# Check values of each categorical column that have missing value/s\n",
    "for i in categorical_columns:\n",
    "    print('Number of unique values for *{}*'.format(i), df_pdf[i].nunique())\n"
   ]
  },
  {
   "cell_type": "code",
   "execution_count": 69,
   "id": "3b45c673-4f97-4561-8db6-fbc8a6d68e13",
   "metadata": {},
   "outputs": [],
   "source": [
    "# Impute categorical missing with most frequent of each column\n",
    "# Source: https://stackoverflow.com/questions/25239958/impute-categorical-missing-values-in-scikit-learn\n",
    "from sklearn.base import TransformerMixin\n",
    "\n",
    "class DataFrameImputer(TransformerMixin):\n",
    "\n",
    "    def __init__(self):\n",
    "        \"\"\"Impute missing values.\n",
    "\n",
    "        Columns of dtype object are imputed with the most frequent value \n",
    "        in column.\n",
    "        \"\"\"\n",
    "    def fit(self, X, y=None):\n",
    "\n",
    "        self.fill = pd.Series([X[c].value_counts().index[0]\n",
    "            if X[c].dtype == np.dtype('O') else X[c].mean() for c in X],\n",
    "            index=X.columns)\n",
    "\n",
    "        return self\n",
    "\n",
    "    def transform(self, X, y=None):\n",
    "        return X.fillna(self.fill)\n",
    "    \n",
    "df_pdf[categorical_columns] = DataFrameImputer().fit_transform(df_pdf[categorical_columns])"
   ]
  },
  {
   "cell_type": "code",
   "execution_count": 70,
   "id": "f7dc4f70-209f-40d3-acfc-acb43374733e",
   "metadata": {},
   "outputs": [
    {
     "data": {
      "text/plain": [
       "0"
      ]
     },
     "execution_count": 70,
     "metadata": {},
     "output_type": "execute_result"
    }
   ],
   "source": [
    "sum(df_pdf.isnull().sum())"
   ]
  },
  {
   "cell_type": "markdown",
   "id": "43c8064a-b4ed-4507-8d88-80d39dc8b95f",
   "metadata": {
    "tags": []
   },
   "source": [
    "### Check Duplicates"
   ]
  },
  {
   "cell_type": "code",
   "execution_count": 71,
   "id": "d1c1a159-7c4b-4655-adbd-4ff1c85d3817",
   "metadata": {},
   "outputs": [
    {
     "data": {
      "text/plain": [
       "0"
      ]
     },
     "execution_count": 71,
     "metadata": {},
     "output_type": "execute_result"
    }
   ],
   "source": [
    "# Check duplicate points in our dataset\n",
    "df_pdf.duplicated().sum() # No duplicates"
   ]
  },
  {
   "cell_type": "markdown",
   "id": "4620841b-c904-459b-ba4e-bed7be2f1148",
   "metadata": {
    "tags": []
   },
   "source": [
    "### Visualizations"
   ]
  },
  {
   "cell_type": "code",
   "execution_count": 73,
   "id": "6645db23-9f78-4442-9c2d-141e9ea4ec1f",
   "metadata": {},
   "outputs": [
    {
     "data": {
      "text/plain": [
       "Malicious    5558\n",
       "Benign       4468\n",
       "Name: Class, dtype: int64"
      ]
     },
     "execution_count": 73,
     "metadata": {},
     "output_type": "execute_result"
    }
   ],
   "source": [
    "# Check number of samples for each class [Benign, Malicious]\n",
    "df_pdf.Class.value_counts()"
   ]
  },
  {
   "cell_type": "code",
   "execution_count": 91,
   "id": "f1a5c5b9-8cf5-4f17-b025-e7d6ea7568bb",
   "metadata": {},
   "outputs": [
    {
     "data": {
      "image/png": "[encoded data removed]",
      "text/plain": [
       "<Figure size 864x576 with 1 Axes>"
      ]
     },
     "metadata": {
      "needs_background": "light"
     },
     "output_type": "display_data"
    }
   ],
   "source": [
    "# Visulize our classes \n",
    "plt.figure(figsize=(12,8))\n",
    "sns.countplot(x='Class',order=['Benign', 'Malicious'] ,data= df_pdf, palette= \"bwr\")\n",
    "plt.show()"
   ]
  },
  {
   "cell_type": "markdown",
   "id": "bed711c0-3b01-4b0a-ba7c-b9b5ee66aad6",
   "metadata": {},
   "source": [
    "## Work - 19/11/22"
   ]
  },
  {
   "cell_type": "code",
   "execution_count": null,
   "id": "8e256465-c4aa-41dd-86e4-137203d27533",
   "metadata": {},
   "outputs": [],
   "source": []
  }
 ],
 "metadata": {
  "kernelspec": {
   "display_name": "Python 3 (ipykernel)",
   "language": "python",
   "name": "python3"
  },
  "language_info": {
   "codemirror_mode": {
    "name": "ipython",
    "version": 3
   },
   "file_extension": ".py",
   "mimetype": "text/x-python",
   "name": "python",
   "nbconvert_exporter": "python",
   "pygments_lexer": "ipython3",
   "version": "3.8.8"
  }
 },
 "nbformat": 4,
 "nbformat_minor": 5
}
